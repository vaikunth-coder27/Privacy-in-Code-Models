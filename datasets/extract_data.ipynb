{
 "cells": [
  {
   "cell_type": "code",
   "execution_count": 1,
   "metadata": {},
   "outputs": [
    {
     "name": "stderr",
     "output_type": "stream",
     "text": [
      "/Users/zhouyang/anaconda3/envs/memorize/lib/python3.7/site-packages/tqdm/auto.py:22: TqdmWarning: IProgress not found. Please update jupyter and ipywidgets. See https://ipywidgets.readthedocs.io/en/stable/user_install.html\n",
      "  from .autonotebook import tqdm as notebook_tqdm\n"
     ]
    }
   ],
   "source": [
    "from datasets import load_dataset\n",
    "import os\n",
    "from tqdm import tqdm"
   ]
  },
  {
   "cell_type": "code",
   "execution_count": 2,
   "metadata": {},
   "outputs": [],
   "source": [
    "cache_dir = \"/Volumes/HHD2/the-stack\""
   ]
  },
  {
   "cell_type": "code",
   "execution_count": 3,
   "metadata": {},
   "outputs": [
    {
     "name": "stderr",
     "output_type": "stream",
     "text": [
      "Using custom data configuration bigcode--the-stack-a57b67aa3e680a8c\n",
      "Found cached dataset parquet (/Volumes/HHD2/the-stack/bigcode___parquet/bigcode--the-stack-a57b67aa3e680a8c/0.0.0/2a3b91fbd88a2c90d1dbbb32b460cf621d31bd5b05b934492fdef7d8d6f236ec)\n"
     ]
    }
   ],
   "source": [
    "ds_java = load_dataset(\"bigcode/the-stack\", data_dir=\"data/java\", split=\"train\",cache_dir=cache_dir)\n",
    "# ds_python = load_dataset(\"bigcode/the-stack\", data_dir=\"data/python\", split=\"train\",cache_dir=cache_dir)"
   ]
  },
  {
   "cell_type": "code",
   "execution_count": 6,
   "metadata": {},
   "outputs": [
    {
     "name": "stderr",
     "output_type": "stream",
     "text": [
      "Using custom data configuration bigcode--the-stack-de516dedeab70cbf\n"
     ]
    },
    {
     "name": "stdout",
     "output_type": "stream",
     "text": [
      "Downloading and preparing dataset parquet/bigcode--the-stack to /Volumes/HHD2/the-stack/bigcode___parquet/bigcode--the-stack-de516dedeab70cbf/0.0.0/2a3b91fbd88a2c90d1dbbb32b460cf621d31bd5b05b934492fdef7d8d6f236ec...\n"
     ]
    },
    {
     "name": "stderr",
     "output_type": "stream",
     "text": [
      "Downloading data files: 100%|██████████| 1/1 [00:00<00:00,  4.48it/s]\n",
      "Computing checksums of downloaded files. They can be used for integrity verification. You can disable this by passing ignore_verifications=True to load_dataset\n",
      "Computing checksums: 100%|██████████| 499/499 [13:10<00:00,  1.58s/it]\n",
      "Extracting data files: 100%|██████████| 1/1 [00:06<00:00,  6.77s/it]\n",
      "                                                                       \r"
     ]
    },
    {
     "name": "stdout",
     "output_type": "stream",
     "text": [
      "Dataset parquet downloaded and prepared to /Volumes/HHD2/the-stack/bigcode___parquet/bigcode--the-stack-de516dedeab70cbf/0.0.0/2a3b91fbd88a2c90d1dbbb32b460cf621d31bd5b05b934492fdef7d8d6f236ec. Subsequent calls will reuse this data.\n"
     ]
    }
   ],
   "source": [
    "ds_js = load_dataset(\"bigcode/the-stack\", data_dir=\"data/javascript\", split=\"train\",cache_dir=cache_dir)\n"
   ]
  },
  {
   "cell_type": "code",
   "execution_count": 7,
   "metadata": {},
   "outputs": [
    {
     "name": "stdout",
     "output_type": "stream",
     "text": [
      "Java: 42429458\n",
      "JavaScript: 40113161\n"
     ]
    }
   ],
   "source": [
    "print(\"Java: {}\".format(len(ds_java)))\n",
    "# print(\"Python: {}\".format(len(ds_python)))\n",
    "print(\"JavaScript: {}\".format(len(ds_js)))"
   ]
  },
  {
   "cell_type": "code",
   "execution_count": 8,
   "metadata": {},
   "outputs": [
    {
     "name": "stderr",
     "output_type": "stream",
     "text": [
      "100%|██████████| 401/401 [5:09:29<00:00, 46.31s/it]  \n"
     ]
    }
   ],
   "source": [
    "import os \n",
    "store_path = os.path.join(\"/Users/zhouyang/Pictures/\", 'javascript')\n",
    "#  /Volumes/HHD2/store/the-stack/ /Users/zhouyang/Pictures/\n",
    "batch_size = 100*1000\n",
    "batches = int(len(ds_js) / batch_size)\n",
    "for i in tqdm(range(batches)):\n",
    "    content_to_store = ''\n",
    "    with open(os.path.join(store_path, str(i)), 'w') as f:\n",
    "        \n",
    "        for j in range(i*batch_size,(i+1)*batch_size):\n",
    "            f.write(ds_js[j]['content'] + '\\n' + ds_js[j]['hexsha'] + '\\n')\n"
   ]
  },
  {
   "cell_type": "code",
   "execution_count": null,
   "metadata": {},
   "outputs": [],
   "source": []
  },
  {
   "cell_type": "code",
   "execution_count": null,
   "metadata": {},
   "outputs": [],
   "source": []
  }
 ],
 "metadata": {
  "kernelspec": {
   "display_name": "memorize",
   "language": "python",
   "name": "python3"
  },
  "language_info": {
   "codemirror_mode": {
    "name": "ipython",
    "version": 3
   },
   "file_extension": ".py",
   "mimetype": "text/x-python",
   "name": "python",
   "nbconvert_exporter": "python",
   "pygments_lexer": "ipython3",
   "version": "3.7.16 (default, Jan 17 2023, 09:28:58) \n[Clang 14.0.6 ]"
  },
  "orig_nbformat": 4,
  "vscode": {
   "interpreter": {
    "hash": "a23bda5fa702fbd2b38ad9a7eb8be5ee51fbcd4005a0259055e972eebae468e7"
   }
  }
 },
 "nbformat": 4,
 "nbformat_minor": 2
}
